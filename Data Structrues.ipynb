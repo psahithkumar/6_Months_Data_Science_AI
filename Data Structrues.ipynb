{
 "cells": [
  {
   "cell_type": "markdown",
   "id": "e3aa42c3",
   "metadata": {},
   "source": [
    "# List"
   ]
  },
  {
   "cell_type": "code",
   "execution_count": 1,
   "id": "beb2a248",
   "metadata": {},
   "outputs": [],
   "source": [
    "l=[]"
   ]
  },
  {
   "cell_type": "code",
   "execution_count": 2,
   "id": "bca613d8",
   "metadata": {},
   "outputs": [
    {
     "data": {
      "text/plain": [
       "list"
      ]
     },
     "execution_count": 2,
     "metadata": {},
     "output_type": "execute_result"
    }
   ],
   "source": [
    "type(l)"
   ]
  },
  {
   "cell_type": "code",
   "execution_count": 3,
   "id": "51fd5d69",
   "metadata": {},
   "outputs": [],
   "source": [
    "l.append(10)# add's element at the last\n",
    "l.append(20)"
   ]
  },
  {
   "cell_type": "code",
   "execution_count": 4,
   "id": "3b43670b",
   "metadata": {},
   "outputs": [
    {
     "data": {
      "text/plain": [
       "[10, 20]"
      ]
     },
     "execution_count": 4,
     "metadata": {},
     "output_type": "execute_result"
    }
   ],
   "source": [
    "l"
   ]
  },
  {
   "cell_type": "code",
   "execution_count": 5,
   "id": "e846d266",
   "metadata": {},
   "outputs": [],
   "source": [
    "l.append(30)\n",
    "l.append(40)\n",
    "l.append(50)"
   ]
  },
  {
   "cell_type": "code",
   "execution_count": 6,
   "id": "bd0e548f",
   "metadata": {},
   "outputs": [
    {
     "data": {
      "text/plain": [
       "[10, 20, 30, 40, 50]"
      ]
     },
     "execution_count": 6,
     "metadata": {},
     "output_type": "execute_result"
    }
   ],
   "source": [
    "l"
   ]
  },
  {
   "cell_type": "code",
   "execution_count": 7,
   "id": "49d1a372",
   "metadata": {},
   "outputs": [],
   "source": [
    "l.append(10)"
   ]
  },
  {
   "cell_type": "code",
   "execution_count": 8,
   "id": "b5e97e66",
   "metadata": {},
   "outputs": [
    {
     "data": {
      "text/plain": [
       "[10, 20, 30, 40, 50, 10]"
      ]
     },
     "execution_count": 8,
     "metadata": {},
     "output_type": "execute_result"
    }
   ],
   "source": [
    "l"
   ]
  },
  {
   "cell_type": "code",
   "execution_count": 9,
   "id": "73be0cef",
   "metadata": {},
   "outputs": [
    {
     "data": {
      "text/plain": [
       "6"
      ]
     },
     "execution_count": 9,
     "metadata": {},
     "output_type": "execute_result"
    }
   ],
   "source": [
    "len(l)"
   ]
  },
  {
   "cell_type": "code",
   "execution_count": 10,
   "id": "43880b2a",
   "metadata": {},
   "outputs": [],
   "source": [
    "l1=[]"
   ]
  },
  {
   "cell_type": "code",
   "execution_count": 11,
   "id": "a72c3827",
   "metadata": {},
   "outputs": [],
   "source": [
    "l1=l.copy() #copy the values from from one to another"
   ]
  },
  {
   "cell_type": "code",
   "execution_count": 12,
   "id": "0701484e",
   "metadata": {},
   "outputs": [
    {
     "data": {
      "text/plain": [
       "[10, 20, 30, 40, 50, 10]"
      ]
     },
     "execution_count": 12,
     "metadata": {},
     "output_type": "execute_result"
    }
   ],
   "source": [
    "l1"
   ]
  },
  {
   "cell_type": "code",
   "execution_count": 13,
   "id": "941646ab",
   "metadata": {},
   "outputs": [
    {
     "name": "stdout",
     "output_type": "stream",
     "text": [
      "[10, 20, 30, 40, 50, 10]\n",
      "[10, 20, 30, 40, 50, 10]\n"
     ]
    }
   ],
   "source": [
    "print(l)\n",
    "print(l1)"
   ]
  },
  {
   "cell_type": "code",
   "execution_count": 14,
   "id": "c311fabb",
   "metadata": {},
   "outputs": [],
   "source": [
    "l.append(2.335)\n",
    "l.append('nit')"
   ]
  },
  {
   "cell_type": "code",
   "execution_count": 15,
   "id": "3788b9e7",
   "metadata": {},
   "outputs": [
    {
     "data": {
      "text/plain": [
       "[10, 20, 30, 40, 50, 10, 2.335, 'nit']"
      ]
     },
     "execution_count": 15,
     "metadata": {},
     "output_type": "execute_result"
    }
   ],
   "source": [
    "l"
   ]
  },
  {
   "cell_type": "code",
   "execution_count": 16,
   "id": "623c62fe",
   "metadata": {},
   "outputs": [
    {
     "data": {
      "text/plain": [
       "2068915500416"
      ]
     },
     "execution_count": 16,
     "metadata": {},
     "output_type": "execute_result"
    }
   ],
   "source": [
    "id(l)"
   ]
  },
  {
   "cell_type": "code",
   "execution_count": 17,
   "id": "083b53bc",
   "metadata": {},
   "outputs": [
    {
     "data": {
      "text/plain": [
       "2068915525824"
      ]
     },
     "execution_count": 17,
     "metadata": {},
     "output_type": "execute_result"
    }
   ],
   "source": [
    "id(l1)"
   ]
  },
  {
   "cell_type": "code",
   "execution_count": 18,
   "id": "1c748d4f",
   "metadata": {},
   "outputs": [
    {
     "data": {
      "text/plain": [
       "1"
      ]
     },
     "execution_count": 18,
     "metadata": {},
     "output_type": "execute_result"
    }
   ],
   "source": [
    "l.count(20)# returns the total count of value"
   ]
  },
  {
   "cell_type": "code",
   "execution_count": 19,
   "id": "6540617e",
   "metadata": {},
   "outputs": [
    {
     "data": {
      "text/plain": [
       "2"
      ]
     },
     "execution_count": 19,
     "metadata": {},
     "output_type": "execute_result"
    }
   ],
   "source": [
    "l.count(10)"
   ]
  },
  {
   "cell_type": "code",
   "execution_count": 20,
   "id": "9c019170",
   "metadata": {},
   "outputs": [],
   "source": [
    "l.append([10,20,30])"
   ]
  },
  {
   "cell_type": "code",
   "execution_count": 21,
   "id": "22392fb6",
   "metadata": {},
   "outputs": [
    {
     "data": {
      "text/plain": [
       "[10, 20, 30, 40, 50, 10, 2.335, 'nit', [10, 20, 30]]"
      ]
     },
     "execution_count": 21,
     "metadata": {},
     "output_type": "execute_result"
    }
   ],
   "source": [
    "l"
   ]
  },
  {
   "cell_type": "code",
   "execution_count": 22,
   "id": "009d4634",
   "metadata": {},
   "outputs": [
    {
     "data": {
      "text/plain": [
       "20"
      ]
     },
     "execution_count": 22,
     "metadata": {},
     "output_type": "execute_result"
    }
   ],
   "source": [
    "l[1]# indexing"
   ]
  },
  {
   "cell_type": "code",
   "execution_count": 23,
   "id": "37430c43",
   "metadata": {},
   "outputs": [],
   "source": [
    "l[5]=150 # changing the value using index"
   ]
  },
  {
   "cell_type": "code",
   "execution_count": 24,
   "id": "544cb92a",
   "metadata": {},
   "outputs": [
    {
     "data": {
      "text/plain": [
       "[10, 20, 30, 40, 50, 150, 2.335, 'nit', [10, 20, 30]]"
      ]
     },
     "execution_count": 24,
     "metadata": {},
     "output_type": "execute_result"
    }
   ],
   "source": [
    "l"
   ]
  },
  {
   "cell_type": "code",
   "execution_count": 25,
   "id": "38f8b868",
   "metadata": {},
   "outputs": [
    {
     "data": {
      "text/plain": [
       "9"
      ]
     },
     "execution_count": 25,
     "metadata": {},
     "output_type": "execute_result"
    }
   ],
   "source": [
    "len(l)"
   ]
  },
  {
   "cell_type": "code",
   "execution_count": 26,
   "id": "46c0d142",
   "metadata": {},
   "outputs": [],
   "source": [
    "l2=[]"
   ]
  },
  {
   "cell_type": "code",
   "execution_count": 27,
   "id": "001a4da8",
   "metadata": {},
   "outputs": [],
   "source": [
    "l2=l.copy()"
   ]
  },
  {
   "cell_type": "code",
   "execution_count": 28,
   "id": "aacc104a",
   "metadata": {},
   "outputs": [
    {
     "data": {
      "text/plain": [
       "[10, 20, 30, 40, 50, 150, 2.335, 'nit', [10, 20, 30]]"
      ]
     },
     "execution_count": 28,
     "metadata": {},
     "output_type": "execute_result"
    }
   ],
   "source": [
    "l2"
   ]
  },
  {
   "cell_type": "code",
   "execution_count": 29,
   "id": "8cd95add",
   "metadata": {},
   "outputs": [],
   "source": [
    "l.clear()# clears the values in the list"
   ]
  },
  {
   "cell_type": "code",
   "execution_count": 30,
   "id": "4ab2b9a0",
   "metadata": {},
   "outputs": [
    {
     "data": {
      "text/plain": [
       "[]"
      ]
     },
     "execution_count": 30,
     "metadata": {},
     "output_type": "execute_result"
    }
   ],
   "source": [
    "l"
   ]
  },
  {
   "cell_type": "code",
   "execution_count": 31,
   "id": "8dd117ee",
   "metadata": {},
   "outputs": [],
   "source": [
    "del l# delete's the list (l)"
   ]
  },
  {
   "cell_type": "code",
   "execution_count": 32,
   "id": "3368b88a",
   "metadata": {},
   "outputs": [
    {
     "ename": "NameError",
     "evalue": "name 'l' is not defined",
     "output_type": "error",
     "traceback": [
      "\u001b[1;31m---------------------------------------------------------------------------\u001b[0m",
      "\u001b[1;31mNameError\u001b[0m                                 Traceback (most recent call last)",
      "Cell \u001b[1;32mIn[32], line 1\u001b[0m\n\u001b[1;32m----> 1\u001b[0m \u001b[43ml\u001b[49m\n",
      "\u001b[1;31mNameError\u001b[0m: name 'l' is not defined"
     ]
    }
   ],
   "source": [
    "l"
   ]
  },
  {
   "cell_type": "code",
   "execution_count": 33,
   "id": "66cc121b",
   "metadata": {},
   "outputs": [
    {
     "data": {
      "text/plain": [
       "[10, 20, 30, 40, 50, 150, 2.335, 'nit', [10, 20, 30]]"
      ]
     },
     "execution_count": 33,
     "metadata": {},
     "output_type": "execute_result"
    }
   ],
   "source": [
    "l2"
   ]
  },
  {
   "cell_type": "code",
   "execution_count": 34,
   "id": "c312f6c1",
   "metadata": {},
   "outputs": [],
   "source": [
    "l3=[1,12,2.451,'hi',[10,20,30],(1+2j)]"
   ]
  },
  {
   "cell_type": "code",
   "execution_count": 35,
   "id": "759483e0",
   "metadata": {},
   "outputs": [
    {
     "data": {
      "text/plain": [
       "[1, 12, 2.451, 'hi', [10, 20, 30], (1+2j)]"
      ]
     },
     "execution_count": 35,
     "metadata": {},
     "output_type": "execute_result"
    }
   ],
   "source": [
    "l3"
   ]
  },
  {
   "cell_type": "code",
   "execution_count": 36,
   "id": "4459f7e6",
   "metadata": {},
   "outputs": [
    {
     "data": {
      "text/plain": [
       "(1+2j)"
      ]
     },
     "execution_count": 36,
     "metadata": {},
     "output_type": "execute_result"
    }
   ],
   "source": [
    "l3.pop()# remove's the last index"
   ]
  },
  {
   "cell_type": "code",
   "execution_count": 37,
   "id": "238471a9",
   "metadata": {},
   "outputs": [
    {
     "data": {
      "text/plain": [
       "[1, 12, 2.451, 'hi', [10, 20, 30]]"
      ]
     },
     "execution_count": 37,
     "metadata": {},
     "output_type": "execute_result"
    }
   ],
   "source": [
    "l3"
   ]
  },
  {
   "cell_type": "code",
   "execution_count": 38,
   "id": "80dcf3bf",
   "metadata": {},
   "outputs": [
    {
     "data": {
      "text/plain": [
       "'hi'"
      ]
     },
     "execution_count": 38,
     "metadata": {},
     "output_type": "execute_result"
    }
   ],
   "source": [
    "l3.pop(3)# removing the value with index"
   ]
  },
  {
   "cell_type": "code",
   "execution_count": 39,
   "id": "3f265928",
   "metadata": {},
   "outputs": [
    {
     "data": {
      "text/plain": [
       "[1, 12, 2.451, [10, 20, 30]]"
      ]
     },
     "execution_count": 39,
     "metadata": {},
     "output_type": "execute_result"
    }
   ],
   "source": [
    "l3"
   ]
  },
  {
   "cell_type": "code",
   "execution_count": 40,
   "id": "f06f4f91",
   "metadata": {},
   "outputs": [],
   "source": [
    "l3.remove([10,20,30])# remove the values using index"
   ]
  },
  {
   "cell_type": "code",
   "execution_count": 41,
   "id": "c69fbd28",
   "metadata": {},
   "outputs": [
    {
     "data": {
      "text/plain": [
       "[1, 12, 2.451]"
      ]
     },
     "execution_count": 41,
     "metadata": {},
     "output_type": "execute_result"
    }
   ],
   "source": [
    "l3"
   ]
  },
  {
   "cell_type": "code",
   "execution_count": 42,
   "id": "48937cc0",
   "metadata": {},
   "outputs": [],
   "source": [
    "l3.insert(2,'hello') # insert the value using index position"
   ]
  },
  {
   "cell_type": "code",
   "execution_count": 43,
   "id": "d60d1704",
   "metadata": {},
   "outputs": [
    {
     "data": {
      "text/plain": [
       "[1, 12, 'hello', 2.451]"
      ]
     },
     "execution_count": 43,
     "metadata": {},
     "output_type": "execute_result"
    }
   ],
   "source": [
    "l3"
   ]
  },
  {
   "cell_type": "code",
   "execution_count": 44,
   "id": "9164c5bb",
   "metadata": {},
   "outputs": [],
   "source": [
    "l3.reverse() # reverse the list values"
   ]
  },
  {
   "cell_type": "code",
   "execution_count": 45,
   "id": "be862ed7",
   "metadata": {},
   "outputs": [
    {
     "data": {
      "text/plain": [
       "[2.451, 'hello', 12, 1]"
      ]
     },
     "execution_count": 45,
     "metadata": {},
     "output_type": "execute_result"
    }
   ],
   "source": [
    "l3"
   ]
  },
  {
   "cell_type": "code",
   "execution_count": 46,
   "id": "c7396bcb",
   "metadata": {},
   "outputs": [],
   "source": [
    "l4=[50,45,12,51,361,14]"
   ]
  },
  {
   "cell_type": "code",
   "execution_count": 47,
   "id": "fefb5263",
   "metadata": {},
   "outputs": [],
   "source": [
    "l4.sort() # sort's the values in the list"
   ]
  },
  {
   "cell_type": "code",
   "execution_count": 48,
   "id": "453f1711",
   "metadata": {},
   "outputs": [
    {
     "data": {
      "text/plain": [
       "[12, 14, 45, 50, 51, 361]"
      ]
     },
     "execution_count": 48,
     "metadata": {},
     "output_type": "execute_result"
    }
   ],
   "source": [
    "l4"
   ]
  },
  {
   "cell_type": "code",
   "execution_count": 49,
   "id": "5dbf40e7",
   "metadata": {},
   "outputs": [],
   "source": [
    "l4.sort(reverse=True)"
   ]
  },
  {
   "cell_type": "code",
   "execution_count": 50,
   "id": "d1ec9f68",
   "metadata": {},
   "outputs": [
    {
     "data": {
      "text/plain": [
       "[361, 51, 50, 45, 14, 12]"
      ]
     },
     "execution_count": 50,
     "metadata": {},
     "output_type": "execute_result"
    }
   ],
   "source": [
    "l4"
   ]
  },
  {
   "cell_type": "code",
   "execution_count": 51,
   "id": "248f5e0c",
   "metadata": {},
   "outputs": [],
   "source": [
    "l=['a','b','c',1,2.3,45,True,(1+2j)]"
   ]
  },
  {
   "cell_type": "code",
   "execution_count": 52,
   "id": "ae16b400",
   "metadata": {},
   "outputs": [
    {
     "data": {
      "text/plain": [
       "['a', 'b', 'c', 1, 2.3, 45, True, (1+2j)]"
      ]
     },
     "execution_count": 52,
     "metadata": {},
     "output_type": "execute_result"
    }
   ],
   "source": [
    "l"
   ]
  },
  {
   "cell_type": "code",
   "execution_count": 53,
   "id": "8974cd63",
   "metadata": {},
   "outputs": [
    {
     "data": {
      "text/plain": [
       "['a', 'b', 'c', 1, 2.3, 45, True, (1+2j)]"
      ]
     },
     "execution_count": 53,
     "metadata": {},
     "output_type": "execute_result"
    }
   ],
   "source": [
    "l[:]"
   ]
  },
  {
   "cell_type": "code",
   "execution_count": 54,
   "id": "8d431928",
   "metadata": {},
   "outputs": [
    {
     "data": {
      "text/plain": [
       "['a', 'b', 'c', 1, 2.3, 45, True, (1+2j)]"
      ]
     },
     "execution_count": 54,
     "metadata": {},
     "output_type": "execute_result"
    }
   ],
   "source": [
    "l[0:]"
   ]
  },
  {
   "cell_type": "code",
   "execution_count": 55,
   "id": "68dfc2dc",
   "metadata": {},
   "outputs": [
    {
     "data": {
      "text/plain": [
       "['a', 'b', 'c', 1, 2.3, 45, True]"
      ]
     },
     "execution_count": 55,
     "metadata": {},
     "output_type": "execute_result"
    }
   ],
   "source": [
    "l[:7]"
   ]
  },
  {
   "cell_type": "code",
   "execution_count": 56,
   "id": "048e479a",
   "metadata": {},
   "outputs": [
    {
     "data": {
      "text/plain": [
       "[1, 2.3, 45, True, (1+2j)]"
      ]
     },
     "execution_count": 56,
     "metadata": {},
     "output_type": "execute_result"
    }
   ],
   "source": [
    "l[-5:]"
   ]
  },
  {
   "cell_type": "code",
   "execution_count": 57,
   "id": "67454f70",
   "metadata": {},
   "outputs": [
    {
     "data": {
      "text/plain": [
       "['a', 'b', 'c']"
      ]
     },
     "execution_count": 57,
     "metadata": {},
     "output_type": "execute_result"
    }
   ],
   "source": [
    "l[:-5]"
   ]
  },
  {
   "cell_type": "code",
   "execution_count": 58,
   "id": "b4ec2847",
   "metadata": {},
   "outputs": [
    {
     "data": {
      "text/plain": [
       "45"
      ]
     },
     "execution_count": 58,
     "metadata": {},
     "output_type": "execute_result"
    }
   ],
   "source": [
    "l[5]"
   ]
  },
  {
   "cell_type": "code",
   "execution_count": 59,
   "id": "2aafb98a",
   "metadata": {},
   "outputs": [
    {
     "data": {
      "text/plain": [
       "1"
      ]
     },
     "execution_count": 59,
     "metadata": {},
     "output_type": "execute_result"
    }
   ],
   "source": [
    "l[-5]"
   ]
  },
  {
   "cell_type": "code",
   "execution_count": 60,
   "id": "d6f97025",
   "metadata": {},
   "outputs": [
    {
     "data": {
      "text/plain": [
       "['a', 'b', 'c', 1, 2.3, 45, True, (1+2j)]"
      ]
     },
     "execution_count": 60,
     "metadata": {},
     "output_type": "execute_result"
    }
   ],
   "source": [
    "l"
   ]
  },
  {
   "cell_type": "code",
   "execution_count": 61,
   "id": "2f9e2bc1",
   "metadata": {},
   "outputs": [
    {
     "data": {
      "text/plain": [
       "['c', 1, 2.3, 45, True, (1+2j)]"
      ]
     },
     "execution_count": 61,
     "metadata": {},
     "output_type": "execute_result"
    }
   ],
   "source": [
    "l[2:9]"
   ]
  },
  {
   "cell_type": "code",
   "execution_count": 62,
   "id": "3302f798",
   "metadata": {},
   "outputs": [
    {
     "data": {
      "text/plain": [
       "['c', 1, 2.3, 45, True]"
      ]
     },
     "execution_count": 62,
     "metadata": {},
     "output_type": "execute_result"
    }
   ],
   "source": [
    "l[2:7]"
   ]
  },
  {
   "cell_type": "code",
   "execution_count": 63,
   "id": "ae6e30a3",
   "metadata": {},
   "outputs": [
    {
     "data": {
      "text/plain": [
       "['a', 'c', 2.3, True]"
      ]
     },
     "execution_count": 63,
     "metadata": {},
     "output_type": "execute_result"
    }
   ],
   "source": [
    "l[0:9:2]"
   ]
  },
  {
   "cell_type": "code",
   "execution_count": 64,
   "id": "d15f479b",
   "metadata": {},
   "outputs": [
    {
     "data": {
      "text/plain": [
       "[]"
      ]
     },
     "execution_count": 64,
     "metadata": {},
     "output_type": "execute_result"
    }
   ],
   "source": [
    "l[-5:3]"
   ]
  },
  {
   "cell_type": "code",
   "execution_count": 65,
   "id": "eb435b67",
   "metadata": {},
   "outputs": [
    {
     "data": {
      "text/plain": [
       "['b', 'c', 1, 2.3, 45, True]"
      ]
     },
     "execution_count": 65,
     "metadata": {},
     "output_type": "execute_result"
    }
   ],
   "source": [
    "l[-7:-1]"
   ]
  },
  {
   "cell_type": "code",
   "execution_count": 66,
   "id": "bd8680b7",
   "metadata": {},
   "outputs": [
    {
     "data": {
      "text/plain": [
       "['b', 'c', 1, 2.3, 45, True, (1+2j)]"
      ]
     },
     "execution_count": 66,
     "metadata": {},
     "output_type": "execute_result"
    }
   ],
   "source": [
    "l[-7:]"
   ]
  },
  {
   "cell_type": "code",
   "execution_count": 67,
   "id": "61bdb3f5",
   "metadata": {},
   "outputs": [
    {
     "data": {
      "text/plain": [
       "[(1+2j), True, 45, 2.3, 1, 'c', 'b', 'a']"
      ]
     },
     "execution_count": 67,
     "metadata": {},
     "output_type": "execute_result"
    }
   ],
   "source": [
    "l[::-1]"
   ]
  },
  {
   "cell_type": "code",
   "execution_count": 68,
   "id": "93499edc",
   "metadata": {},
   "outputs": [
    {
     "data": {
      "text/plain": [
       "[(1+2j), 45, 1, 'b']"
      ]
     },
     "execution_count": 68,
     "metadata": {},
     "output_type": "execute_result"
    }
   ],
   "source": [
    "l[::-2]"
   ]
  },
  {
   "cell_type": "code",
   "execution_count": 69,
   "id": "5be4e9d2",
   "metadata": {},
   "outputs": [
    {
     "data": {
      "text/plain": [
       "[(1+2j), 1]"
      ]
     },
     "execution_count": 69,
     "metadata": {},
     "output_type": "execute_result"
    }
   ],
   "source": [
    "l[::-4]"
   ]
  },
  {
   "cell_type": "markdown",
   "id": "29a98bda",
   "metadata": {},
   "source": [
    "# Tuple"
   ]
  },
  {
   "cell_type": "code",
   "execution_count": 70,
   "id": "abdd30ca",
   "metadata": {},
   "outputs": [],
   "source": [
    "t=()"
   ]
  },
  {
   "cell_type": "code",
   "execution_count": 71,
   "id": "aaa2d3f0",
   "metadata": {},
   "outputs": [
    {
     "data": {
      "text/plain": [
       "()"
      ]
     },
     "execution_count": 71,
     "metadata": {},
     "output_type": "execute_result"
    }
   ],
   "source": [
    "t"
   ]
  },
  {
   "cell_type": "code",
   "execution_count": 72,
   "id": "befc0e63",
   "metadata": {},
   "outputs": [
    {
     "data": {
      "text/plain": [
       "tuple"
      ]
     },
     "execution_count": 72,
     "metadata": {},
     "output_type": "execute_result"
    }
   ],
   "source": [
    "type(t)"
   ]
  },
  {
   "cell_type": "code",
   "execution_count": 73,
   "id": "7f9f2595",
   "metadata": {},
   "outputs": [],
   "source": [
    "t1=(10,20,30,40,50,10) # duplicates are allowed"
   ]
  },
  {
   "cell_type": "code",
   "execution_count": 74,
   "id": "d5bb3c9c",
   "metadata": {},
   "outputs": [
    {
     "data": {
      "text/plain": [
       "(10, 20, 30, 40, 50, 10)"
      ]
     },
     "execution_count": 74,
     "metadata": {},
     "output_type": "execute_result"
    }
   ],
   "source": [
    "t1"
   ]
  },
  {
   "cell_type": "code",
   "execution_count": 75,
   "id": "cceb0bcb",
   "metadata": {},
   "outputs": [
    {
     "ename": "AttributeError",
     "evalue": "'tuple' object has no attribute 'append'",
     "output_type": "error",
     "traceback": [
      "\u001b[1;31m---------------------------------------------------------------------------\u001b[0m",
      "\u001b[1;31mAttributeError\u001b[0m                            Traceback (most recent call last)",
      "Cell \u001b[1;32mIn[75], line 1\u001b[0m\n\u001b[1;32m----> 1\u001b[0m \u001b[43mt1\u001b[49m\u001b[38;5;241;43m.\u001b[39;49m\u001b[43mappend\u001b[49m()\n",
      "\u001b[1;31mAttributeError\u001b[0m: 'tuple' object has no attribute 'append'"
     ]
    }
   ],
   "source": [
    "t1.append()"
   ]
  },
  {
   "cell_type": "code",
   "execution_count": 76,
   "id": "129112c8",
   "metadata": {},
   "outputs": [
    {
     "data": {
      "text/plain": [
       "2"
      ]
     },
     "execution_count": 76,
     "metadata": {},
     "output_type": "execute_result"
    }
   ],
   "source": [
    "t1.count(10)"
   ]
  },
  {
   "cell_type": "code",
   "execution_count": 77,
   "id": "ecd961cf",
   "metadata": {},
   "outputs": [
    {
     "data": {
      "text/plain": [
       "0"
      ]
     },
     "execution_count": 77,
     "metadata": {},
     "output_type": "execute_result"
    }
   ],
   "source": [
    "t1.index(10)"
   ]
  },
  {
   "cell_type": "code",
   "execution_count": 78,
   "id": "71d8ab09",
   "metadata": {},
   "outputs": [
    {
     "ename": "AttributeError",
     "evalue": "'tuple' object has no attribute 'copy'",
     "output_type": "error",
     "traceback": [
      "\u001b[1;31m---------------------------------------------------------------------------\u001b[0m",
      "\u001b[1;31mAttributeError\u001b[0m                            Traceback (most recent call last)",
      "Cell \u001b[1;32mIn[78], line 1\u001b[0m\n\u001b[1;32m----> 1\u001b[0m t2\u001b[38;5;241m=\u001b[39m\u001b[43mt1\u001b[49m\u001b[38;5;241;43m.\u001b[39;49m\u001b[43mcopy\u001b[49m()\n",
      "\u001b[1;31mAttributeError\u001b[0m: 'tuple' object has no attribute 'copy'"
     ]
    }
   ],
   "source": [
    "t2=t1.copy()"
   ]
  },
  {
   "cell_type": "code",
   "execution_count": 79,
   "id": "ce5285ef",
   "metadata": {},
   "outputs": [],
   "source": [
    "t2=t1*2"
   ]
  },
  {
   "cell_type": "code",
   "execution_count": 80,
   "id": "13568d12",
   "metadata": {},
   "outputs": [
    {
     "data": {
      "text/plain": [
       "(10, 20, 30, 40, 50, 10, 10, 20, 30, 40, 50, 10)"
      ]
     },
     "execution_count": 80,
     "metadata": {},
     "output_type": "execute_result"
    }
   ],
   "source": [
    "t2"
   ]
  },
  {
   "cell_type": "code",
   "execution_count": 81,
   "id": "c2905519",
   "metadata": {},
   "outputs": [],
   "source": [
    "del t2"
   ]
  },
  {
   "cell_type": "code",
   "execution_count": 82,
   "id": "cfba3e28",
   "metadata": {},
   "outputs": [
    {
     "ename": "NameError",
     "evalue": "name 't2' is not defined",
     "output_type": "error",
     "traceback": [
      "\u001b[1;31m---------------------------------------------------------------------------\u001b[0m",
      "\u001b[1;31mNameError\u001b[0m                                 Traceback (most recent call last)",
      "Cell \u001b[1;32mIn[82], line 1\u001b[0m\n\u001b[1;32m----> 1\u001b[0m \u001b[43mt2\u001b[49m\n",
      "\u001b[1;31mNameError\u001b[0m: name 't2' is not defined"
     ]
    }
   ],
   "source": [
    "t2"
   ]
  },
  {
   "cell_type": "code",
   "execution_count": 83,
   "id": "6d761cc3",
   "metadata": {},
   "outputs": [
    {
     "data": {
      "text/plain": [
       "10"
      ]
     },
     "execution_count": 83,
     "metadata": {},
     "output_type": "execute_result"
    }
   ],
   "source": [
    "t1[0]"
   ]
  },
  {
   "cell_type": "code",
   "execution_count": 84,
   "id": "0cdc3f6a",
   "metadata": {},
   "outputs": [
    {
     "ename": "TypeError",
     "evalue": "'tuple' object does not support item assignment",
     "output_type": "error",
     "traceback": [
      "\u001b[1;31m---------------------------------------------------------------------------\u001b[0m",
      "\u001b[1;31mTypeError\u001b[0m                                 Traceback (most recent call last)",
      "Cell \u001b[1;32mIn[84], line 1\u001b[0m\n\u001b[1;32m----> 1\u001b[0m t1[\u001b[38;5;241m0\u001b[39m]\u001b[38;5;241m=\u001b[39m\u001b[38;5;241m100\u001b[39m\n",
      "\u001b[1;31mTypeError\u001b[0m: 'tuple' object does not support item assignment"
     ]
    }
   ],
   "source": [
    "t1[0]=100"
   ]
  },
  {
   "cell_type": "code",
   "execution_count": 85,
   "id": "c23f9259",
   "metadata": {},
   "outputs": [
    {
     "data": {
      "text/plain": [
       "(10, 20, 30, 40, 50, 10)"
      ]
     },
     "execution_count": 85,
     "metadata": {},
     "output_type": "execute_result"
    }
   ],
   "source": [
    "t1[:]"
   ]
  },
  {
   "cell_type": "code",
   "execution_count": 86,
   "id": "b644d1ba",
   "metadata": {},
   "outputs": [],
   "source": [
    "t3=([1,2,3],13,15,78,45)"
   ]
  },
  {
   "cell_type": "code",
   "execution_count": 87,
   "id": "91eb3276",
   "metadata": {},
   "outputs": [
    {
     "data": {
      "text/plain": [
       "([1, 2, 3], 13, 15, 78, 45)"
      ]
     },
     "execution_count": 87,
     "metadata": {},
     "output_type": "execute_result"
    }
   ],
   "source": [
    "t3"
   ]
  },
  {
   "cell_type": "markdown",
   "id": "eeb7c850",
   "metadata": {},
   "source": [
    "# Set"
   ]
  },
  {
   "cell_type": "code",
   "execution_count": 88,
   "id": "20ad3487",
   "metadata": {},
   "outputs": [
    {
     "data": {
      "text/plain": [
       "dict"
      ]
     },
     "execution_count": 88,
     "metadata": {},
     "output_type": "execute_result"
    }
   ],
   "source": [
    "s={}\n",
    "type(s)"
   ]
  },
  {
   "cell_type": "code",
   "execution_count": 89,
   "id": "1d2cd4af",
   "metadata": {},
   "outputs": [
    {
     "data": {
      "text/plain": [
       "{}"
      ]
     },
     "execution_count": 89,
     "metadata": {},
     "output_type": "execute_result"
    }
   ],
   "source": [
    "s"
   ]
  },
  {
   "cell_type": "code",
   "execution_count": 90,
   "id": "8fbaa308",
   "metadata": {},
   "outputs": [],
   "source": [
    "s=set()"
   ]
  },
  {
   "cell_type": "code",
   "execution_count": 91,
   "id": "2f8eda8e",
   "metadata": {},
   "outputs": [
    {
     "data": {
      "text/plain": [
       "set()"
      ]
     },
     "execution_count": 91,
     "metadata": {},
     "output_type": "execute_result"
    }
   ],
   "source": [
    "s"
   ]
  },
  {
   "cell_type": "code",
   "execution_count": 92,
   "id": "06ab6896",
   "metadata": {},
   "outputs": [
    {
     "data": {
      "text/plain": [
       "set"
      ]
     },
     "execution_count": 92,
     "metadata": {},
     "output_type": "execute_result"
    }
   ],
   "source": [
    "type(s)"
   ]
  },
  {
   "cell_type": "code",
   "execution_count": 93,
   "id": "d7eb5aed",
   "metadata": {},
   "outputs": [
    {
     "data": {
      "text/plain": [
       "{15, 22, 45, 52, 85, 961}"
      ]
     },
     "execution_count": 93,
     "metadata": {},
     "output_type": "execute_result"
    }
   ],
   "source": [
    "s1={15,85,22,45,961,52}\n",
    "s1"
   ]
  },
  {
   "cell_type": "code",
   "execution_count": 94,
   "id": "8491277d",
   "metadata": {},
   "outputs": [
    {
     "data": {
      "text/plain": [
       "set"
      ]
     },
     "execution_count": 94,
     "metadata": {},
     "output_type": "execute_result"
    }
   ],
   "source": [
    "type(s1)"
   ]
  },
  {
   "cell_type": "code",
   "execution_count": 95,
   "id": "e5b55954",
   "metadata": {},
   "outputs": [],
   "source": [
    "s2={10,45,75,84,475,4.5,True,1+2j,True}"
   ]
  },
  {
   "cell_type": "code",
   "execution_count": 96,
   "id": "aad5bfe4",
   "metadata": {},
   "outputs": [
    {
     "data": {
      "text/plain": [
       "{(1+2j), 10, 4.5, 45, 475, 75, 84, True}"
      ]
     },
     "execution_count": 96,
     "metadata": {},
     "output_type": "execute_result"
    }
   ],
   "source": [
    "s2"
   ]
  },
  {
   "cell_type": "code",
   "execution_count": 97,
   "id": "7b269ea4",
   "metadata": {},
   "outputs": [],
   "source": [
    "s1.add(200)"
   ]
  },
  {
   "cell_type": "code",
   "execution_count": 98,
   "id": "8635d7ec",
   "metadata": {},
   "outputs": [
    {
     "data": {
      "text/plain": [
       "{15, 22, 45, 52, 85, 200, 961}"
      ]
     },
     "execution_count": 98,
     "metadata": {},
     "output_type": "execute_result"
    }
   ],
   "source": [
    "s1"
   ]
  },
  {
   "cell_type": "code",
   "execution_count": 99,
   "id": "42f73e1e",
   "metadata": {},
   "outputs": [],
   "source": [
    "s1.add(52)# duplicates are not allowed"
   ]
  },
  {
   "cell_type": "code",
   "execution_count": 100,
   "id": "c87634c8",
   "metadata": {},
   "outputs": [
    {
     "data": {
      "text/plain": [
       "{15, 22, 45, 52, 85, 200, 961}"
      ]
     },
     "execution_count": 100,
     "metadata": {},
     "output_type": "execute_result"
    }
   ],
   "source": [
    "s1"
   ]
  },
  {
   "cell_type": "code",
   "execution_count": 101,
   "id": "692ca0df",
   "metadata": {},
   "outputs": [],
   "source": [
    "s3=s1.copy()# copies from one set to another"
   ]
  },
  {
   "cell_type": "code",
   "execution_count": 102,
   "id": "6ed36c52",
   "metadata": {},
   "outputs": [
    {
     "data": {
      "text/plain": [
       "{15, 22, 45, 52, 85, 200, 961}"
      ]
     },
     "execution_count": 102,
     "metadata": {},
     "output_type": "execute_result"
    }
   ],
   "source": [
    "s3"
   ]
  },
  {
   "cell_type": "code",
   "execution_count": 103,
   "id": "1de6a400",
   "metadata": {},
   "outputs": [
    {
     "data": {
      "text/plain": [
       "7"
      ]
     },
     "execution_count": 103,
     "metadata": {},
     "output_type": "execute_result"
    }
   ],
   "source": [
    "len(s3)"
   ]
  },
  {
   "cell_type": "code",
   "execution_count": 104,
   "id": "130e4c99",
   "metadata": {},
   "outputs": [
    {
     "data": {
      "text/plain": [
       "True"
      ]
     },
     "execution_count": 104,
     "metadata": {},
     "output_type": "execute_result"
    }
   ],
   "source": [
    "s1==s3"
   ]
  },
  {
   "cell_type": "code",
   "execution_count": 105,
   "id": "c17bb6d2",
   "metadata": {},
   "outputs": [],
   "source": [
    "s1.clear()# clears the values in the set"
   ]
  },
  {
   "cell_type": "code",
   "execution_count": 106,
   "id": "285f629a",
   "metadata": {},
   "outputs": [
    {
     "data": {
      "text/plain": [
       "set()"
      ]
     },
     "execution_count": 106,
     "metadata": {},
     "output_type": "execute_result"
    }
   ],
   "source": [
    "s1"
   ]
  },
  {
   "cell_type": "code",
   "execution_count": 107,
   "id": "c1428597",
   "metadata": {},
   "outputs": [],
   "source": [
    "s1=s3.copy()"
   ]
  },
  {
   "cell_type": "code",
   "execution_count": 108,
   "id": "8108aa97",
   "metadata": {},
   "outputs": [
    {
     "data": {
      "text/plain": [
       "{15, 22, 45, 52, 85, 200, 961}"
      ]
     },
     "execution_count": 108,
     "metadata": {},
     "output_type": "execute_result"
    }
   ],
   "source": [
    "s1"
   ]
  },
  {
   "cell_type": "code",
   "execution_count": 109,
   "id": "498777e5",
   "metadata": {},
   "outputs": [
    {
     "ename": "TypeError",
     "evalue": "'set' object is not subscriptable",
     "output_type": "error",
     "traceback": [
      "\u001b[1;31m---------------------------------------------------------------------------\u001b[0m",
      "\u001b[1;31mTypeError\u001b[0m                                 Traceback (most recent call last)",
      "Cell \u001b[1;32mIn[109], line 1\u001b[0m\n\u001b[1;32m----> 1\u001b[0m \u001b[43ms1\u001b[49m\u001b[43m[\u001b[49m\u001b[38;5;241;43m0\u001b[39;49m\u001b[43m]\u001b[49m\n",
      "\u001b[1;31mTypeError\u001b[0m: 'set' object is not subscriptable"
     ]
    }
   ],
   "source": [
    "s1[0] # no indexing"
   ]
  },
  {
   "cell_type": "code",
   "execution_count": 110,
   "id": "cbffa478",
   "metadata": {},
   "outputs": [
    {
     "ename": "TypeError",
     "evalue": "'set' object is not subscriptable",
     "output_type": "error",
     "traceback": [
      "\u001b[1;31m---------------------------------------------------------------------------\u001b[0m",
      "\u001b[1;31mTypeError\u001b[0m                                 Traceback (most recent call last)",
      "Cell \u001b[1;32mIn[110], line 1\u001b[0m\n\u001b[1;32m----> 1\u001b[0m \u001b[43ms1\u001b[49m\u001b[43m[\u001b[49m\u001b[43m:\u001b[49m\u001b[43m]\u001b[49m\n",
      "\u001b[1;31mTypeError\u001b[0m: 'set' object is not subscriptable"
     ]
    }
   ],
   "source": [
    "s1[:]"
   ]
  },
  {
   "cell_type": "code",
   "execution_count": 111,
   "id": "5a63b661",
   "metadata": {},
   "outputs": [
    {
     "data": {
      "text/plain": [
       "961"
      ]
     },
     "execution_count": 111,
     "metadata": {},
     "output_type": "execute_result"
    }
   ],
   "source": [
    "s1.pop()# removes random value in the set"
   ]
  },
  {
   "cell_type": "code",
   "execution_count": 112,
   "id": "e4f17a2a",
   "metadata": {},
   "outputs": [
    {
     "data": {
      "text/plain": [
       "{15, 22, 45, 52, 85, 200}"
      ]
     },
     "execution_count": 112,
     "metadata": {},
     "output_type": "execute_result"
    }
   ],
   "source": [
    "s1"
   ]
  },
  {
   "cell_type": "code",
   "execution_count": 113,
   "id": "ab806a93",
   "metadata": {},
   "outputs": [
    {
     "ename": "TypeError",
     "evalue": "set.pop() takes no arguments (1 given)",
     "output_type": "error",
     "traceback": [
      "\u001b[1;31m---------------------------------------------------------------------------\u001b[0m",
      "\u001b[1;31mTypeError\u001b[0m                                 Traceback (most recent call last)",
      "Cell \u001b[1;32mIn[113], line 1\u001b[0m\n\u001b[1;32m----> 1\u001b[0m \u001b[43ms1\u001b[49m\u001b[38;5;241;43m.\u001b[39;49m\u001b[43mpop\u001b[49m\u001b[43m(\u001b[49m\u001b[38;5;241;43m1\u001b[39;49m\u001b[43m)\u001b[49m\n",
      "\u001b[1;31mTypeError\u001b[0m: set.pop() takes no arguments (1 given)"
     ]
    }
   ],
   "source": [
    "s1.pop(1)"
   ]
  },
  {
   "cell_type": "code",
   "execution_count": 114,
   "id": "edb82730",
   "metadata": {},
   "outputs": [
    {
     "ename": "KeyError",
     "evalue": "500",
     "output_type": "error",
     "traceback": [
      "\u001b[1;31m---------------------------------------------------------------------------\u001b[0m",
      "\u001b[1;31mKeyError\u001b[0m                                  Traceback (most recent call last)",
      "Cell \u001b[1;32mIn[114], line 1\u001b[0m\n\u001b[1;32m----> 1\u001b[0m \u001b[43ms1\u001b[49m\u001b[38;5;241;43m.\u001b[39;49m\u001b[43mremove\u001b[49m\u001b[43m(\u001b[49m\u001b[38;5;241;43m500\u001b[39;49m\u001b[43m)\u001b[49m\n",
      "\u001b[1;31mKeyError\u001b[0m: 500"
     ]
    }
   ],
   "source": [
    "s1.remove(500)# remove will print an error if the value is not in the set"
   ]
  },
  {
   "cell_type": "code",
   "execution_count": 115,
   "id": "310291f8",
   "metadata": {},
   "outputs": [],
   "source": [
    "s1.discard(500)# discard will not print error if the value is not in the set"
   ]
  },
  {
   "cell_type": "code",
   "execution_count": 116,
   "id": "25cb59ce",
   "metadata": {},
   "outputs": [],
   "source": [
    "s1.remove(85)"
   ]
  },
  {
   "cell_type": "code",
   "execution_count": 117,
   "id": "574557f3",
   "metadata": {},
   "outputs": [],
   "source": [
    "s1.discard(200)"
   ]
  },
  {
   "cell_type": "code",
   "execution_count": 118,
   "id": "6a91e6d3",
   "metadata": {},
   "outputs": [
    {
     "data": {
      "text/plain": [
       "{15, 22, 45, 52}"
      ]
     },
     "execution_count": 118,
     "metadata": {},
     "output_type": "execute_result"
    }
   ],
   "source": [
    "s1"
   ]
  },
  {
   "cell_type": "code",
   "execution_count": 119,
   "id": "1a64c752",
   "metadata": {},
   "outputs": [
    {
     "name": "stdout",
     "output_type": "stream",
     "text": [
      "52\n",
      "22\n",
      "45\n",
      "15\n"
     ]
    }
   ],
   "source": [
    "for i in s1:\n",
    "    print(i)"
   ]
  },
  {
   "cell_type": "code",
   "execution_count": 120,
   "id": "a8eb8eb7",
   "metadata": {},
   "outputs": [
    {
     "name": "stdout",
     "output_type": "stream",
     "text": [
      "(0, 52)\n",
      "(1, 22)\n",
      "(2, 45)\n",
      "(3, 15)\n"
     ]
    }
   ],
   "source": [
    "for i in enumerate(s1):\n",
    "    print(i)"
   ]
  },
  {
   "cell_type": "code",
   "execution_count": 121,
   "id": "7be68595",
   "metadata": {},
   "outputs": [],
   "source": [
    "A={1,2,3,4,5}\n",
    "B={4,5,6,7,8}\n",
    "C={8,9,10}"
   ]
  },
  {
   "cell_type": "code",
   "execution_count": 122,
   "id": "89a01d6a",
   "metadata": {},
   "outputs": [
    {
     "data": {
      "text/plain": [
       "{1, 2, 3, 4, 5, 6, 7, 8, 9, 10}"
      ]
     },
     "execution_count": 122,
     "metadata": {},
     "output_type": "execute_result"
    }
   ],
   "source": [
    "A|B|C# union"
   ]
  },
  {
   "cell_type": "code",
   "execution_count": 123,
   "id": "c1c272e4",
   "metadata": {},
   "outputs": [
    {
     "data": {
      "text/plain": [
       "{1, 2, 3, 4, 5, 6, 7, 8}"
      ]
     },
     "execution_count": 123,
     "metadata": {},
     "output_type": "execute_result"
    }
   ],
   "source": [
    "A|B"
   ]
  },
  {
   "cell_type": "code",
   "execution_count": 124,
   "id": "3411a394",
   "metadata": {},
   "outputs": [
    {
     "data": {
      "text/plain": [
       "{1, 2, 3, 4, 5, 6, 7, 8}"
      ]
     },
     "execution_count": 124,
     "metadata": {},
     "output_type": "execute_result"
    }
   ],
   "source": [
    "A.union(B)"
   ]
  },
  {
   "cell_type": "code",
   "execution_count": 125,
   "id": "dd3aeffd",
   "metadata": {},
   "outputs": [
    {
     "data": {
      "text/plain": [
       "{4, 5, 6, 7, 8, 9, 10}"
      ]
     },
     "execution_count": 125,
     "metadata": {},
     "output_type": "execute_result"
    }
   ],
   "source": [
    "B.union(C)"
   ]
  },
  {
   "cell_type": "code",
   "execution_count": 126,
   "id": "ac9e69fe",
   "metadata": {},
   "outputs": [
    {
     "data": {
      "text/plain": [
       "{1, 2, 3, 4, 5, 8, 9, 10}"
      ]
     },
     "execution_count": 126,
     "metadata": {},
     "output_type": "execute_result"
    }
   ],
   "source": [
    "C.union(A)"
   ]
  },
  {
   "cell_type": "code",
   "execution_count": 127,
   "id": "cb6618dc",
   "metadata": {},
   "outputs": [
    {
     "data": {
      "text/plain": [
       "{4, 5}"
      ]
     },
     "execution_count": 127,
     "metadata": {},
     "output_type": "execute_result"
    }
   ],
   "source": [
    "A&B #intersection"
   ]
  },
  {
   "cell_type": "code",
   "execution_count": 128,
   "id": "5aec4a2a",
   "metadata": {},
   "outputs": [
    {
     "data": {
      "text/plain": [
       "{8}"
      ]
     },
     "execution_count": 128,
     "metadata": {},
     "output_type": "execute_result"
    }
   ],
   "source": [
    "B&C"
   ]
  },
  {
   "cell_type": "code",
   "execution_count": 129,
   "id": "9605dcef",
   "metadata": {},
   "outputs": [
    {
     "data": {
      "text/plain": [
       "set()"
      ]
     },
     "execution_count": 129,
     "metadata": {},
     "output_type": "execute_result"
    }
   ],
   "source": [
    "C&A"
   ]
  },
  {
   "cell_type": "code",
   "execution_count": 130,
   "id": "4d6c049d",
   "metadata": {},
   "outputs": [
    {
     "data": {
      "text/plain": [
       "{4, 5}"
      ]
     },
     "execution_count": 130,
     "metadata": {},
     "output_type": "execute_result"
    }
   ],
   "source": [
    "A.intersection(B)"
   ]
  },
  {
   "cell_type": "code",
   "execution_count": 131,
   "id": "a53d5c9d",
   "metadata": {},
   "outputs": [
    {
     "data": {
      "text/plain": [
       "{8}"
      ]
     },
     "execution_count": 131,
     "metadata": {},
     "output_type": "execute_result"
    }
   ],
   "source": [
    "B.intersection(C)"
   ]
  },
  {
   "cell_type": "code",
   "execution_count": 132,
   "id": "e45d1651",
   "metadata": {},
   "outputs": [
    {
     "data": {
      "text/plain": [
       "set()"
      ]
     },
     "execution_count": 132,
     "metadata": {},
     "output_type": "execute_result"
    }
   ],
   "source": [
    "A.intersection(C)"
   ]
  },
  {
   "cell_type": "code",
   "execution_count": 133,
   "id": "c02500b2",
   "metadata": {},
   "outputs": [
    {
     "data": {
      "text/plain": [
       "{1, 2, 3}"
      ]
     },
     "execution_count": 133,
     "metadata": {},
     "output_type": "execute_result"
    }
   ],
   "source": [
    "A-B"
   ]
  },
  {
   "cell_type": "code",
   "execution_count": 134,
   "id": "f45e743e",
   "metadata": {},
   "outputs": [
    {
     "data": {
      "text/plain": [
       "{4, 5, 6, 7}"
      ]
     },
     "execution_count": 134,
     "metadata": {},
     "output_type": "execute_result"
    }
   ],
   "source": [
    "B-C"
   ]
  },
  {
   "cell_type": "code",
   "execution_count": 135,
   "id": "d2ae69b0",
   "metadata": {},
   "outputs": [
    {
     "data": {
      "text/plain": [
       "{1, 2, 3, 4, 5}"
      ]
     },
     "execution_count": 135,
     "metadata": {},
     "output_type": "execute_result"
    }
   ],
   "source": [
    "A-C"
   ]
  },
  {
   "cell_type": "code",
   "execution_count": 136,
   "id": "c0ceaf66",
   "metadata": {},
   "outputs": [
    {
     "data": {
      "text/plain": [
       "{1, 2, 3}"
      ]
     },
     "execution_count": 136,
     "metadata": {},
     "output_type": "execute_result"
    }
   ],
   "source": [
    "A.difference(B)"
   ]
  },
  {
   "cell_type": "code",
   "execution_count": 137,
   "id": "a674c707",
   "metadata": {},
   "outputs": [
    {
     "data": {
      "text/plain": [
       "{4, 5, 6, 7}"
      ]
     },
     "execution_count": 137,
     "metadata": {},
     "output_type": "execute_result"
    }
   ],
   "source": [
    "B.difference(C)"
   ]
  },
  {
   "cell_type": "code",
   "execution_count": 138,
   "id": "ac4e375c",
   "metadata": {},
   "outputs": [
    {
     "data": {
      "text/plain": [
       "{1, 2, 3, 6, 7, 8}"
      ]
     },
     "execution_count": 138,
     "metadata": {},
     "output_type": "execute_result"
    }
   ],
   "source": [
    "A.symmetric_difference(B)# will print the values which are not common"
   ]
  },
  {
   "cell_type": "code",
   "execution_count": 139,
   "id": "bf7be2f0",
   "metadata": {},
   "outputs": [
    {
     "data": {
      "text/plain": [
       "{1, 2, 3, 4, 5, 8, 9, 10}"
      ]
     },
     "execution_count": 139,
     "metadata": {},
     "output_type": "execute_result"
    }
   ],
   "source": [
    "A^C"
   ]
  },
  {
   "cell_type": "code",
   "execution_count": 140,
   "id": "e82d5b57",
   "metadata": {},
   "outputs": [
    {
     "data": {
      "text/plain": [
       "{1, 2, 3, 6, 7, 8}"
      ]
     },
     "execution_count": 140,
     "metadata": {},
     "output_type": "execute_result"
    }
   ],
   "source": [
    "A^B"
   ]
  },
  {
   "cell_type": "code",
   "execution_count": 141,
   "id": "28eef5b6",
   "metadata": {},
   "outputs": [
    {
     "data": {
      "text/plain": [
       "5"
      ]
     },
     "execution_count": 141,
     "metadata": {},
     "output_type": "execute_result"
    }
   ],
   "source": [
    "len(A)"
   ]
  },
  {
   "cell_type": "code",
   "execution_count": 142,
   "id": "741189f7",
   "metadata": {},
   "outputs": [],
   "source": [
    "A.symmetric_difference_update(B)"
   ]
  },
  {
   "cell_type": "code",
   "execution_count": 143,
   "id": "2554f626",
   "metadata": {},
   "outputs": [
    {
     "data": {
      "text/plain": [
       "{1, 2, 3, 6, 7, 8}"
      ]
     },
     "execution_count": 143,
     "metadata": {},
     "output_type": "execute_result"
    }
   ],
   "source": [
    "A"
   ]
  },
  {
   "cell_type": "code",
   "execution_count": 144,
   "id": "99228626",
   "metadata": {},
   "outputs": [
    {
     "name": "stdout",
     "output_type": "stream",
     "text": [
      "{1, 2, 3, 6, 7, 8}\n",
      "{4, 5, 6, 7, 8}\n",
      "{8, 9, 10}\n"
     ]
    }
   ],
   "source": [
    "print(A)\n",
    "print(B)\n",
    "print(C)"
   ]
  },
  {
   "cell_type": "code",
   "execution_count": 145,
   "id": "336501b0",
   "metadata": {},
   "outputs": [],
   "source": [
    "A1={1,2,3,4,5,6,7,8,9,}\n",
    "B1={3,4,5,6,7,8}\n",
    "C1={10,20,30,40,50}"
   ]
  },
  {
   "cell_type": "code",
   "execution_count": 146,
   "id": "ce192647",
   "metadata": {},
   "outputs": [
    {
     "data": {
      "text/plain": [
       "True"
      ]
     },
     "execution_count": 146,
     "metadata": {},
     "output_type": "execute_result"
    }
   ],
   "source": [
    "A1.issuperset(B)"
   ]
  },
  {
   "cell_type": "code",
   "execution_count": 147,
   "id": "5dfe85b7",
   "metadata": {},
   "outputs": [
    {
     "data": {
      "text/plain": [
       "True"
      ]
     },
     "execution_count": 147,
     "metadata": {},
     "output_type": "execute_result"
    }
   ],
   "source": [
    "B1.issubset(A1)"
   ]
  },
  {
   "cell_type": "code",
   "execution_count": 148,
   "id": "d159a7ce",
   "metadata": {},
   "outputs": [
    {
     "data": {
      "text/plain": [
       "True"
      ]
     },
     "execution_count": 148,
     "metadata": {},
     "output_type": "execute_result"
    }
   ],
   "source": [
    "C1.isdisjoint(A1)"
   ]
  },
  {
   "cell_type": "code",
   "execution_count": 149,
   "id": "5872d27a",
   "metadata": {},
   "outputs": [],
   "source": [
    "A2={1,2,3,4,5,6,7,8,9}\n",
    "B2={30,40,50,60,70,80}\n",
    "C2={10,20,30,40,50}"
   ]
  },
  {
   "cell_type": "code",
   "execution_count": 150,
   "id": "0056f293",
   "metadata": {},
   "outputs": [
    {
     "data": {
      "text/plain": [
       "False"
      ]
     },
     "execution_count": 150,
     "metadata": {},
     "output_type": "execute_result"
    }
   ],
   "source": [
    "A2.issuperset(C2)"
   ]
  },
  {
   "cell_type": "code",
   "execution_count": 151,
   "id": "a18d4733",
   "metadata": {},
   "outputs": [
    {
     "data": {
      "text/plain": [
       "False"
      ]
     },
     "execution_count": 151,
     "metadata": {},
     "output_type": "execute_result"
    }
   ],
   "source": [
    "B2.isdisjoint(C2)"
   ]
  },
  {
   "cell_type": "markdown",
   "id": "49188912",
   "metadata": {},
   "source": [
    "# Dictionary"
   ]
  },
  {
   "cell_type": "code",
   "execution_count": 152,
   "id": "313be4ca",
   "metadata": {},
   "outputs": [
    {
     "data": {
      "text/plain": [
       "dict"
      ]
     },
     "execution_count": 152,
     "metadata": {},
     "output_type": "execute_result"
    }
   ],
   "source": [
    "d={}\n",
    "type(d)"
   ]
  },
  {
   "cell_type": "code",
   "execution_count": 153,
   "id": "b32fd9d2",
   "metadata": {},
   "outputs": [],
   "source": [
    "d={1:'one',2:'two',3:'three',4:'four'}"
   ]
  },
  {
   "cell_type": "code",
   "execution_count": 154,
   "id": "f11ed575",
   "metadata": {},
   "outputs": [
    {
     "data": {
      "text/plain": [
       "{1: 'one', 2: 'two', 3: 'three', 4: 'four'}"
      ]
     },
     "execution_count": 154,
     "metadata": {},
     "output_type": "execute_result"
    }
   ],
   "source": [
    "d"
   ]
  },
  {
   "cell_type": "code",
   "execution_count": 155,
   "id": "bd175902",
   "metadata": {},
   "outputs": [
    {
     "data": {
      "text/plain": [
       "dict_keys([1, 2, 3, 4])"
      ]
     },
     "execution_count": 155,
     "metadata": {},
     "output_type": "execute_result"
    }
   ],
   "source": [
    "d.keys()"
   ]
  },
  {
   "cell_type": "code",
   "execution_count": 156,
   "id": "0c80612b",
   "metadata": {},
   "outputs": [
    {
     "data": {
      "text/plain": [
       "dict_values(['one', 'two', 'three', 'four'])"
      ]
     },
     "execution_count": 156,
     "metadata": {},
     "output_type": "execute_result"
    }
   ],
   "source": [
    "d.values()"
   ]
  },
  {
   "cell_type": "code",
   "execution_count": 157,
   "id": "d9ef0f63",
   "metadata": {},
   "outputs": [
    {
     "data": {
      "text/plain": [
       "{1: 'one', 2: 'two', 3: 'three', 4: 'four'}"
      ]
     },
     "execution_count": 157,
     "metadata": {},
     "output_type": "execute_result"
    }
   ],
   "source": [
    "d"
   ]
  },
  {
   "cell_type": "code",
   "execution_count": 158,
   "id": "0e8a9a72",
   "metadata": {},
   "outputs": [
    {
     "data": {
      "text/plain": [
       "dict_items([(1, 'one'), (2, 'two'), (3, 'three'), (4, 'four')])"
      ]
     },
     "execution_count": 158,
     "metadata": {},
     "output_type": "execute_result"
    }
   ],
   "source": [
    "d.items()"
   ]
  },
  {
   "cell_type": "code",
   "execution_count": 159,
   "id": "fae5320c",
   "metadata": {},
   "outputs": [
    {
     "data": {
      "text/plain": [
       "4"
      ]
     },
     "execution_count": 159,
     "metadata": {},
     "output_type": "execute_result"
    }
   ],
   "source": [
    "len(d)"
   ]
  },
  {
   "cell_type": "code",
   "execution_count": 160,
   "id": "095a089b",
   "metadata": {},
   "outputs": [
    {
     "data": {
      "text/plain": [
       "'three'"
      ]
     },
     "execution_count": 160,
     "metadata": {},
     "output_type": "execute_result"
    }
   ],
   "source": [
    "d[3]"
   ]
  },
  {
   "cell_type": "code",
   "execution_count": 161,
   "id": "213f217a",
   "metadata": {},
   "outputs": [
    {
     "data": {
      "text/plain": [
       "'two'"
      ]
     },
     "execution_count": 161,
     "metadata": {},
     "output_type": "execute_result"
    }
   ],
   "source": [
    "d.get(2)"
   ]
  },
  {
   "cell_type": "code",
   "execution_count": 162,
   "id": "8013f311",
   "metadata": {},
   "outputs": [],
   "source": [
    "d1=d.copy()"
   ]
  },
  {
   "cell_type": "code",
   "execution_count": 163,
   "id": "bd474021",
   "metadata": {},
   "outputs": [
    {
     "data": {
      "text/plain": [
       "{1: 'one', 2: 'two', 3: 'three', 4: 'four'}"
      ]
     },
     "execution_count": 163,
     "metadata": {},
     "output_type": "execute_result"
    }
   ],
   "source": [
    "d1"
   ]
  },
  {
   "cell_type": "code",
   "execution_count": 164,
   "id": "88ab9788",
   "metadata": {},
   "outputs": [
    {
     "data": {
      "text/plain": [
       "'one'"
      ]
     },
     "execution_count": 164,
     "metadata": {},
     "output_type": "execute_result"
    }
   ],
   "source": [
    "d1.pop(1)"
   ]
  },
  {
   "cell_type": "code",
   "execution_count": 165,
   "id": "8dbd6e78",
   "metadata": {},
   "outputs": [
    {
     "data": {
      "text/plain": [
       "{2: 'two', 3: 'three', 4: 'four'}"
      ]
     },
     "execution_count": 165,
     "metadata": {},
     "output_type": "execute_result"
    }
   ],
   "source": [
    "d1"
   ]
  },
  {
   "cell_type": "code",
   "execution_count": 166,
   "id": "2445364c",
   "metadata": {},
   "outputs": [
    {
     "data": {
      "text/plain": [
       "(4, 'four')"
      ]
     },
     "execution_count": 166,
     "metadata": {},
     "output_type": "execute_result"
    }
   ],
   "source": [
    "d1.popitem()"
   ]
  },
  {
   "cell_type": "code",
   "execution_count": 167,
   "id": "7de1904c",
   "metadata": {},
   "outputs": [
    {
     "data": {
      "text/plain": [
       "{2: 'two', 3: 'three'}"
      ]
     },
     "execution_count": 167,
     "metadata": {},
     "output_type": "execute_result"
    }
   ],
   "source": [
    "d1"
   ]
  },
  {
   "cell_type": "code",
   "execution_count": 168,
   "id": "484a8bc6",
   "metadata": {},
   "outputs": [
    {
     "data": {
      "text/plain": [
       "{1: 'one', 2: 'two', 3: 'three', 4: 'four'}"
      ]
     },
     "execution_count": 168,
     "metadata": {},
     "output_type": "execute_result"
    }
   ],
   "source": [
    "d"
   ]
  },
  {
   "cell_type": "code",
   "execution_count": 169,
   "id": "13cb16ad",
   "metadata": {},
   "outputs": [
    {
     "name": "stdout",
     "output_type": "stream",
     "text": [
      "1\n",
      "2\n",
      "3\n",
      "4\n"
     ]
    }
   ],
   "source": [
    "for i in d:\n",
    "    print(i)"
   ]
  },
  {
   "cell_type": "code",
   "execution_count": 170,
   "id": "25ee7f76",
   "metadata": {},
   "outputs": [
    {
     "name": "stdout",
     "output_type": "stream",
     "text": [
      "1 : one\n",
      "2 : two\n",
      "3 : three\n",
      "4 : four\n"
     ]
    }
   ],
   "source": [
    "for i in d:\n",
    "    print(i,':',d[i])"
   ]
  },
  {
   "cell_type": "code",
   "execution_count": 171,
   "id": "573125f9",
   "metadata": {},
   "outputs": [
    {
     "name": "stdout",
     "output_type": "stream",
     "text": [
      "1 : {1: 'one', 2: 'two', 3: 'three', 4: 'four'}\n",
      "2 : {1: 'one', 2: 'two', 3: 'three', 4: 'four'}\n",
      "3 : {1: 'one', 2: 'two', 3: 'three', 4: 'four'}\n",
      "4 : {1: 'one', 2: 'two', 3: 'three', 4: 'four'}\n"
     ]
    }
   ],
   "source": [
    "for i in d:\n",
    "    print(i,':', d)"
   ]
  },
  {
   "cell_type": "markdown",
   "id": "12c2cd49",
   "metadata": {},
   "source": [
    "# Range"
   ]
  },
  {
   "cell_type": "code",
   "execution_count": 172,
   "id": "1c6eb5f9",
   "metadata": {},
   "outputs": [
    {
     "data": {
      "text/plain": [
       "range(0, 5)"
      ]
     },
     "execution_count": 172,
     "metadata": {},
     "output_type": "execute_result"
    }
   ],
   "source": [
    "range(5)"
   ]
  },
  {
   "cell_type": "code",
   "execution_count": 173,
   "id": "37993042",
   "metadata": {},
   "outputs": [],
   "source": [
    "r=range(0,5)"
   ]
  },
  {
   "cell_type": "code",
   "execution_count": 174,
   "id": "d85fd811",
   "metadata": {},
   "outputs": [
    {
     "data": {
      "text/plain": [
       "range(0, 5)"
      ]
     },
     "execution_count": 174,
     "metadata": {},
     "output_type": "execute_result"
    }
   ],
   "source": [
    "r"
   ]
  },
  {
   "cell_type": "code",
   "execution_count": 175,
   "id": "49463128",
   "metadata": {},
   "outputs": [
    {
     "data": {
      "text/plain": [
       "[0, 1, 2, 3, 4]"
      ]
     },
     "execution_count": 175,
     "metadata": {},
     "output_type": "execute_result"
    }
   ],
   "source": [
    "list(r)"
   ]
  },
  {
   "cell_type": "code",
   "execution_count": 176,
   "id": "432db0eb",
   "metadata": {},
   "outputs": [
    {
     "data": {
      "text/plain": [
       "range(5, 18)"
      ]
     },
     "execution_count": 176,
     "metadata": {},
     "output_type": "execute_result"
    }
   ],
   "source": [
    "range(5,18)"
   ]
  },
  {
   "cell_type": "code",
   "execution_count": 177,
   "id": "5ef400ea",
   "metadata": {},
   "outputs": [
    {
     "data": {
      "text/plain": [
       "[5, 6, 7, 8, 9, 10, 11, 12, 13, 14, 15, 16, 17]"
      ]
     },
     "execution_count": 177,
     "metadata": {},
     "output_type": "execute_result"
    }
   ],
   "source": [
    "list(range(5,18))"
   ]
  },
  {
   "cell_type": "code",
   "execution_count": 178,
   "id": "c381496a",
   "metadata": {},
   "outputs": [
    {
     "data": {
      "text/plain": [
       "range(5, 25, 3)"
      ]
     },
     "execution_count": 178,
     "metadata": {},
     "output_type": "execute_result"
    }
   ],
   "source": [
    "range(5,25,3)"
   ]
  },
  {
   "cell_type": "code",
   "execution_count": 179,
   "id": "25007ff5",
   "metadata": {},
   "outputs": [
    {
     "data": {
      "text/plain": [
       "[5, 8, 11, 14, 17, 20, 23]"
      ]
     },
     "execution_count": 179,
     "metadata": {},
     "output_type": "execute_result"
    }
   ],
   "source": [
    "list(range(5,25,3))"
   ]
  },
  {
   "cell_type": "code",
   "execution_count": 180,
   "id": "448ccff1",
   "metadata": {},
   "outputs": [],
   "source": [
    "r=range(0,16,5)"
   ]
  },
  {
   "cell_type": "code",
   "execution_count": 181,
   "id": "b66b4a49",
   "metadata": {},
   "outputs": [
    {
     "data": {
      "text/plain": [
       "range(0, 16, 5)"
      ]
     },
     "execution_count": 181,
     "metadata": {},
     "output_type": "execute_result"
    }
   ],
   "source": [
    "r"
   ]
  }
 ],
 "metadata": {
  "kernelspec": {
   "display_name": "Python 3 (ipykernel)",
   "language": "python",
   "name": "python3"
  },
  "language_info": {
   "codemirror_mode": {
    "name": "ipython",
    "version": 3
   },
   "file_extension": ".py",
   "mimetype": "text/x-python",
   "name": "python",
   "nbconvert_exporter": "python",
   "pygments_lexer": "ipython3",
   "version": "3.10.9"
  }
 },
 "nbformat": 4,
 "nbformat_minor": 5
}
